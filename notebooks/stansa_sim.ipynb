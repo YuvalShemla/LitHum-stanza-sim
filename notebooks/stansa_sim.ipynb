{
 "cells": [
  {
   "cell_type": "markdown",
   "metadata": {},
   "source": [
    "## Stanza‑level Similarity Search  \n",
    "Using Sentence‑Transformers embeddings created with `make_embeddings.py`.\n"
   ]
  },
  {
   "cell_type": "code",
   "execution_count": 2,
   "metadata": {},
   "outputs": [
    {
     "name": "stderr",
     "output_type": "stream",
     "text": [
      "/Users/yuvalol/Desktop/stanza-sim/.venv/lib/python3.11/site-packages/tqdm/auto.py:21: TqdmWarning: IProgress not found. Please update jupyter and ipywidgets. See https://ipywidgets.readthedocs.io/en/stable/user_install.html\n",
      "  from .autonotebook import tqdm as notebook_tqdm\n"
     ]
    }
   ],
   "source": [
    "# paths\n",
    "NPZ_PATH   = \"Ibn_Arabi_poems_embeddings.npz\"\n",
    "POEMS_JSON = \"Ibn_Arabi_poems.json\"\n",
    "\n",
    "# libs (install once per env)\n",
    "import json, numpy as np, textwrap, pandas as pd\n",
    "from sentence_transformers import SentenceTransformer"
   ]
  },
  {
   "cell_type": "code",
   "execution_count": 3,
   "metadata": {},
   "outputs": [
    {
     "name": "stdout",
     "output_type": "stream",
     "text": [
      "Loaded 516 stanza embeddings.\n"
     ]
    }
   ],
   "source": [
    "# ----- load poems ---------------------------------------------------\n",
    "poems = json.loads(open(POEMS_JSON, encoding=\"utf-8\").read())\n",
    "\n",
    "# build a flat list for stanza lookup\n",
    "stanza_lookup = []   # (title, stanza_idx, stanza_text)\n",
    "for title, stanzas in poems.items():\n",
    "    for i, s in enumerate(stanzas):\n",
    "        stanza_lookup.append((title, i, s))\n",
    "\n",
    "# ----- load embeddings ---------------------------------------------\n",
    "data = np.load(NPZ_PATH, allow_pickle=True)\n",
    "embeddings = data[\"embeddings\"]         # (N, dim)  float32\n",
    "assert embeddings.shape[0] == len(stanza_lookup)\n",
    "\n",
    "# ----- load the same model used in make_embeddings.py ---------------\n",
    "model = SentenceTransformer(\"all-mpnet-base-v2\")\n",
    "print(\"Loaded\", embeddings.shape[0], \"stanza embeddings.\")"
   ]
  },
  {
   "cell_type": "code",
   "execution_count": 40,
   "metadata": {},
   "outputs": [],
   "source": [
    "pd.set_option(\"display.max_colwidth\", None)   # never truncate strings\n",
    "\n",
    "def top_k_stanzas(query: str, k: int = 5, show_poem: bool = False):\n",
    "    \"\"\"\n",
    "    Return a pandas DataFrame with the top‑k matches.\n",
    "\n",
    "    Parameters\n",
    "    ----------\n",
    "    query : str\n",
    "    k     : int\n",
    "    show_poem : bool\n",
    "        If True, include the 'full poem' column; otherwise omit it.\n",
    "    \"\"\"\n",
    "    q_vec = model.encode(query, normalize_embeddings=True)\n",
    "    sims  = embeddings @ q_vec\n",
    "    best  = sims.argsort()[-k:][::-1]\n",
    "\n",
    "    rows = []\n",
    "    for rank, idx in enumerate(best, 1):\n",
    "        score = float(sims[idx])\n",
    "        title, stanza_idx, stanza_txt = stanza_lookup[idx]\n",
    "        stanza_txt = stanza_txt.replace(\"\\n\", \" | \")\n",
    "        row = dict(\n",
    "            rank        = rank,\n",
    "            similarity  = f\"{score:.3f}\",\n",
    "            title       = title,\n",
    "            stanza_idx  = stanza_idx,\n",
    "            stanza_text = stanza_txt,\n",
    "        )\n",
    "        if show_poem:\n",
    "            row[\"full_poem\"] = \"\\n\".join(poems[title])\n",
    "        rows.append(row)\n",
    "\n",
    "    cols = [\"rank\", \"similarity\", \"title\", \"stanza_idx\", \"stanza_text\"]\n",
    "    if show_poem:\n",
    "        cols.append(\"full_poem\")\n",
    "    return pd.DataFrame(rows)[cols]\n"
   ]
  },
  {
   "cell_type": "code",
   "execution_count": 41,
   "metadata": {},
   "outputs": [
    {
     "data": {
      "text/html": [
       "<div>\n",
       "<style scoped>\n",
       "    .dataframe tbody tr th:only-of-type {\n",
       "        vertical-align: middle;\n",
       "    }\n",
       "\n",
       "    .dataframe tbody tr th {\n",
       "        vertical-align: top;\n",
       "    }\n",
       "\n",
       "    .dataframe thead th {\n",
       "        text-align: right;\n",
       "    }\n",
       "</style>\n",
       "<table border=\"1\" class=\"dataframe\">\n",
       "  <thead>\n",
       "    <tr style=\"text-align: right;\">\n",
       "      <th></th>\n",
       "      <th>rank</th>\n",
       "      <th>similarity</th>\n",
       "      <th>title</th>\n",
       "      <th>stanza_idx</th>\n",
       "      <th>stanza_text</th>\n",
       "    </tr>\n",
       "  </thead>\n",
       "  <tbody>\n",
       "    <tr>\n",
       "      <th>0</th>\n",
       "      <td>1</td>\n",
       "      <td>0.608</td>\n",
       "      <td>Artemisia and Moringa</td>\n",
       "      <td>0</td>\n",
       "      <td>Patience and solace are gone— | gone with those | who live within | my heart’s dark core</td>\n",
       "    </tr>\n",
       "    <tr>\n",
       "      <th>1</th>\n",
       "      <td>2</td>\n",
       "      <td>0.601</td>\n",
       "      <td>Who Forever</td>\n",
       "      <td>1</td>\n",
       "      <td>These are their ruins | tears in memory | of those who melt | the soul forever</td>\n",
       "    </tr>\n",
       "    <tr>\n",
       "      <th>2</th>\n",
       "      <td>3</td>\n",
       "      <td>0.586</td>\n",
       "      <td>No New Moon Risen</td>\n",
       "      <td>7</td>\n",
       "      <td>So tell of a man | left torn apart | Cast down in sorrow | before the ruin</td>\n",
       "    </tr>\n",
       "    <tr>\n",
       "      <th>3</th>\n",
       "      <td>4</td>\n",
       "      <td>0.575</td>\n",
       "      <td>In the Ruins of My Body</td>\n",
       "      <td>2</td>\n",
       "      <td>She dies longing, dissolved in desire, | stricken with what struck me | Her mate she mourns and blames time’s | arrow buried in both our hearts</td>\n",
       "    </tr>\n",
       "    <tr>\n",
       "      <th>4</th>\n",
       "      <td>5</td>\n",
       "      <td>0.569</td>\n",
       "      <td>Gentle Now, Doves</td>\n",
       "      <td>2</td>\n",
       "      <td>back, in the morning | echo the longing | of the lovesick and lost | Spirits moan</td>\n",
       "    </tr>\n",
       "  </tbody>\n",
       "</table>\n",
       "</div>"
      ],
      "text/plain": [
       "   rank similarity                    title  stanza_idx  \\\n",
       "0     1      0.608    Artemisia and Moringa           0   \n",
       "1     2      0.601              Who Forever           1   \n",
       "2     3      0.586        No New Moon Risen           7   \n",
       "3     4      0.575  In the Ruins of My Body           2   \n",
       "4     5      0.569        Gentle Now, Doves           2   \n",
       "\n",
       "                                                                                                                                       stanza_text  \n",
       "0                                                         Patience and solace are gone— | gone with those | who live within | my heart’s dark core  \n",
       "1                                                                   These are their ruins | tears in memory | of those who melt | the soul forever  \n",
       "2                                                                       So tell of a man | left torn apart | Cast down in sorrow | before the ruin  \n",
       "3  She dies longing, dissolved in desire, | stricken with what struck me | Her mate she mourns and blames time’s | arrow buried in both our hearts  \n",
       "4                                                                back, in the morning | echo the longing | of the lovesick and lost | Spirits moan  "
      ]
     },
     "execution_count": 41,
     "metadata": {},
     "output_type": "execute_result"
    }
   ],
   "source": [
    "query =\"\"\"         As we\n",
    "              embrace resist\n",
    "      the future the present the past\n",
    "      we work we struggle we begin we fail\n",
    "to understand to find to unbraid to accept to question\n",
    "       the grief the grief the grief the grief\n",
    "           we shift we wield we bury\n",
    "              into light as ash\n",
    "              across our faces\n",
    "\"\"\"\n",
    "top_k_stanzas(query, k=5, show_poem=False)"
   ]
  },
  {
   "cell_type": "markdown",
   "metadata": {},
   "source": []
  }
 ],
 "metadata": {
  "kernelspec": {
   "display_name": ".venv",
   "language": "python",
   "name": "python3"
  },
  "language_info": {
   "codemirror_mode": {
    "name": "ipython",
    "version": 3
   },
   "file_extension": ".py",
   "mimetype": "text/x-python",
   "name": "python",
   "nbconvert_exporter": "python",
   "pygments_lexer": "ipython3",
   "version": "3.11.6"
  }
 },
 "nbformat": 4,
 "nbformat_minor": 2
}
